{
 "metadata": {
  "language_info": {
   "codemirror_mode": {
    "name": "ipython",
    "version": 3
   },
   "file_extension": ".py",
   "mimetype": "text/x-python",
   "name": "python",
   "nbconvert_exporter": "python",
   "pygments_lexer": "ipython3",
   "version": "3.8.6-final"
  },
  "orig_nbformat": 2,
  "kernelspec": {
   "name": "python3",
   "display_name": "Python 3.8.6 64-bit",
   "metadata": {
    "interpreter": {
     "hash": "082e9a3bcad0a290d0001e938aa60b99250c6c2ef33a923c00b70f9826caf4b7"
    }
   }
  }
 },
 "nbformat": 4,
 "nbformat_minor": 2,
 "cells": [
  {
   "source": [
    "# Linear Regression Project\n",
    "\n",
    "For this project you will use the diabetes dataset of the package Scikit-Learn. \n",
    "\n",
    "To simplify things, you will use only the first feature of the dataset, in order to illustrate the data points within a two-dimensional plot.\n",
    "\n",
    "A straight line must be seen in the plot, showing how linear regression attempts to draw a straight line that will best minimize the residual sum of squares between the observed responses in the dataset, and the responses predicted by the linear approximation.\n",
    "\n",
    "## Your work to do\n",
    "\n",
    "Your work is to implement tow functions:\n",
    "1. costFunction: a function that using a linear model computes the cost for the theta coefficients and its gradient\n",
    "2. predict: a function to compute the hypothesis of your linear model\n",
    "\n",
    "Also, you should use `scipy.optimize` to optimize your model, i.e., to fit the model to your data. \n",
    "\n",
    "Finally, after an analysis from the comparison, you have to answer the questions.\n",
    "\n",
    "## Comparison\n",
    "\n",
    "The coefficients, residual sum of squares and the coefficient of determination are calculated, in order to compare with scikit-learn linear model.\n",
    "\n",
    "The plot could look like \n",
    "![linear plot](https://scikit-learn.org/stable/_images/sphx_glr_plot_ols_001.png)\n",
    "\n",
    "## Diabetes dataset\n",
    "For reference on the dataset you may visit [https://scikit-learn.org/stable/datasets/toy_dataset.html]\n",
    "\n",
    "Ten baseline variables, age, sex, body mass index, average blood pressure, and six blood serum measurements were obtained for each of n = 442 diabetes patients, as well as the response of interest, a quantitative measure of disease progression one year after baseline.\n",
    "\n",
    "Data Set Characteristics:\n",
    "\n",
    "    Number of Instances  |  442\n",
    "    Number of Attributes |  First 10 columns are numeric predictive values\n",
    "    Target               |  Column 11 is a quantitative measure of disease progression one year after baseline\n",
    "    Attribute Information|  age in years\n",
    "                            sex\n",
    "                            bmi body mass index\n",
    "                            bp average blood pressure\n",
    "                            s1 tc, T-Cells (a type of white blood cells)\n",
    "                            s2 ldl, low-density lipoproteins\n",
    "                            s3 hdl, high-density lipoproteins\n",
    "                            s4 tch, thyroid stimulating hormone\n",
    "                            s5 ltg, lamotrigine\n",
    "                            s6 glu, blood sugar level\n",
    "\n",
    "\n"
   ],
   "cell_type": "markdown",
   "metadata": {}
  },
  {
   "cell_type": "code",
   "execution_count": null,
   "metadata": {},
   "outputs": [],
   "source": [
    "!pip install scikit-learn\n",
    "!pip install scipy"
   ]
  },
  {
   "cell_type": "code",
   "execution_count": null,
   "metadata": {},
   "outputs": [],
   "source": [
    "import matplotlib.pyplot as plt\n",
    "import numpy as np\n",
    "from sklearn import linear_model, datasets\n",
    "from sklearn.metrics import mean_squared_error, r2_score\n",
    "from scipy.optimize import minimize"
   ]
  },
  {
   "cell_type": "code",
   "execution_count": null,
   "metadata": {},
   "outputs": [],
   "source": [
    "# Load the diabetes dataset\n",
    "diabetes_X, diabetes_y = datasets.load_diabetes(return_X_y=True)\n",
    "\n",
    "# Use only one feature\n",
    "diabetes_X = diabetes_X[:, np.newaxis, 2]\n",
    "\n",
    "#  Setup the data matrix appropriately, and add ones for the intercept term\n",
    "m, n = diabetes_X.shape\n",
    "\n",
    "# Add intercept term to x and X_test\n",
    "diabetes_X = np.concatenate((np.ones((m,1)), diabetes_X), axis=1) # Add a column of ones to x\n",
    "\n",
    "# Initialize fitting parameters\n",
    "initial_theta = np.zeros(n + 1)\n",
    "\n",
    "# Split the data into training/testing sets\n",
    "diabetes_X_train = diabetes_X[:-20]\n",
    "diabetes_X_test = diabetes_X[-20:]\n",
    "\n",
    "# Split the targets into training/testing sets\n",
    "diabetes_y_train = diabetes_y[:-20]\n",
    "diabetes_y_test = diabetes_y[-20:]"
   ]
  },
  {
   "cell_type": "code",
   "execution_count": null,
   "metadata": {},
   "outputs": [],
   "source": [
    "# Linear model \n",
    "# Cost function and Gradient\n",
    "def costFunction(theta, X, y):\n",
    "\n",
    "    cost = np.zeros(1)\n",
    "    grad = np.zeros(theta.shape)\n",
    "\n",
    "    #You have to complete this function\n",
    "\n",
    "\n",
    "\n",
    "    return cost.item(), grad"
   ]
  },
  {
   "cell_type": "code",
   "execution_count": null,
   "metadata": {},
   "outputs": [],
   "source": [
    "# Train the model using the training sets\n",
    "\n",
    "# Using scipy optimize the cost function\n",
    "options={'maxiter':400,'gtol': 1e-8, 'disp': True}\n",
    "solution = minimize(costFunction, initial_theta, args=(diabetes_X_train, diabetes_y_train),jac=True, options=options)\n",
    "cost = solution['fun']\n",
    "theta = solution['x']\n",
    "# Print theta to screen\n",
    "print('Cost at theta found by minimize function: ', cost)\n",
    "# The coefficients\n",
    "print('Coefficients (theta): \\n', theta)"
   ]
  },
  {
   "cell_type": "code",
   "execution_count": null,
   "metadata": {},
   "outputs": [],
   "source": [
    "def predict(theta, X):\n",
    "    '''Predict the result value using learned linear\n",
    "    regression parameters '''\n",
    "\n",
    "    m, n = X.shape\n",
    "    p = np.zeros((m, 1))\n",
    "\n",
    "    #You have to complete this function\n",
    "\n",
    "    return p"
   ]
  },
  {
   "cell_type": "code",
   "execution_count": null,
   "metadata": {},
   "outputs": [],
   "source": [
    "# Make predictions using the testing set\n",
    "diabetes_y_pred = predict(theta, diabetes_X_test)\n",
    "\n",
    "# The mean squared error\n",
    "print('Mean squared error: %.2f'\n",
    "      % mean_squared_error(diabetes_y_test, diabetes_y_pred))\n",
    "# The coefficient of determination: 1 is perfect prediction\n",
    "print('Coefficient of determination: %.2f'\n",
    "      % r2_score(diabetes_y_test, diabetes_y_pred))"
   ]
  },
  {
   "cell_type": "code",
   "execution_count": null,
   "metadata": {},
   "outputs": [],
   "source": [
    "# Plot outputs\n",
    "plt.scatter(diabetes_X_test[:,1:], diabetes_y_test,  color='black')\n",
    "plt.plot(diabetes_X_test[:,1:], diabetes_y_pred, color='blue', linewidth=3)\n",
    "\n",
    "plt.xticks(())\n",
    "plt.yticks(())\n",
    "\n",
    "plt.show()"
   ]
  },
  {
   "cell_type": "code",
   "execution_count": null,
   "metadata": {},
   "outputs": [],
   "source": [
    "# Now compare your result with that from Scikit-Learn\n",
    "\n",
    "# Create linear regression object\n",
    "regr = linear_model.LinearRegression(fit_intercept=True)\n",
    "\n",
    "# Split the data into training/testing sets, eliminating the ones\n",
    "diabetes_X_train = diabetes_X[:-20,1:]\n",
    "diabetes_X_test = diabetes_X[-20:,1:]\n",
    "\n",
    "# Train the model using the training sets\n",
    "regr.fit(diabetes_X_train, diabetes_y_train)\n",
    "\n",
    "# Make predictions using the testing set\n",
    "diabetes_y_pred = regr.predict(diabetes_X_test)\n",
    "\n",
    "# The coefficients\n",
    "print('Coefficients: \\n', regr.intercept_, regr.coef_)\n",
    "# The mean squared error\n",
    "print('Mean squared error: %.2f'\n",
    "      % mean_squared_error(diabetes_y_test, diabetes_y_pred))\n",
    "# The coefficient of determination: 1 is perfect prediction\n",
    "print('Coefficient of determination: %.2f'\n",
    "      % r2_score(diabetes_y_test, diabetes_y_pred))\n",
    "\n",
    "# Plot outputs\n",
    "plt.scatter(diabetes_X_test, diabetes_y_test,  color='black')\n",
    "plt.plot(diabetes_X_test, diabetes_y_pred, color='blue', linewidth=3)\n",
    "\n",
    "plt.xticks(())\n",
    "plt.yticks(())\n",
    "\n",
    "plt.show()\n",
    "\n"
   ]
  },
  {
   "source": [
    "## Questions\n",
    "\n",
    "1. Did you perform a data preprocessing (Standardization, Scaling, Normalization, Categorical Encoding or Imputation)?\n",
    "2. Are the model parameters theta the same as the intercept and coefficients from scikit-learn? Why do you think that this happens? They represent (almost) the same line?\n",
    "3. Do you have to modify the two functions that you implemented in order to fit a model that uses more than one feature of the dataset?\n",
    "\n"
   ],
   "cell_type": "markdown",
   "metadata": {}
  }
 ]
}